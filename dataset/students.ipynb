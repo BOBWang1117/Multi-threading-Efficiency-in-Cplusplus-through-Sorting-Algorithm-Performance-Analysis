{
 "cells": [
  {
   "cell_type": "code",
   "execution_count": 9,
   "metadata": {},
   "outputs": [],
   "source": [
    "import numpy as np\n",
    "import time\n",
    "import random"
   ]
  },
  {
   "cell_type": "code",
   "execution_count": 10,
   "metadata": {},
   "outputs": [],
   "source": [
    "\"\"\"\n",
    "structor: sid, student ID, student name, gender\n",
    "sid (string): 9-bytes length\n",
    "studentID: \n",
    "\"\"\"\n",
    "size = 10000000\n",
    "year = ['11','12','13','14','15','16','17','18','19','20','21','22','23']\n",
    "month = ['01','06','09']\n",
    "letterUpper = ['A','B','C','D','E','F','G','H','I','J','K','L','M','N','O','P','Q','R','S','T','U','V','W','X','Y','Z']\n",
    "letterLower = ['a','b','c','d','e','f','g','h','i','j','k','l','m','n','o','p','q','r','s','t','u','v','w','x','y','z']\n",
    "randomList = np.random.permutation(size)    # random is a list that store the random number"
   ]
  },
  {
   "cell_type": "code",
   "execution_count": 11,
   "metadata": {},
   "outputs": [
    {
     "name": "stdout",
     "output_type": "stream",
     "text": [
      "Mon Feb 19 17:24:59 2024\n"
     ]
    }
   ],
   "source": [
    "def getTime():\n",
    "    a = time.ctime()\n",
    "    print(a)\n",
    "\n",
    "getTime()"
   ]
  },
  {
   "cell_type": "code",
   "execution_count": 12,
   "metadata": {},
   "outputs": [],
   "source": [
    "def sid(i):\n",
    "    return str(randomList[i]).zfill(9)"
   ]
  },
  {
   "cell_type": "code",
   "execution_count": 13,
   "metadata": {},
   "outputs": [],
   "source": [
    "def studentID(sid):\n",
    "    yearRandom = random.choice(year)\n",
    "    monthRandom = random.choice(month)\n",
    "    letterRandom = random.choice(letterUpper)\n",
    "\n",
    "    firstPart = yearRandom + monthRandom + sid[8] + sid[7] + sid[6] + sid[5]\n",
    "    secondPart = letterRandom + sid[1] + sid[4] + sid[3]\n",
    "    thirdPart = random.choice(letterUpper) + sid[2] + random.choice(letterUpper) + random.choice(letterUpper)\n",
    "\n",
    "    studentID = firstPart + '-' + secondPart + '-' + thirdPart\n",
    "\n",
    "    return studentID"
   ]
  },
  {
   "cell_type": "code",
   "execution_count": 14,
   "metadata": {},
   "outputs": [],
   "source": [
    "def studentName():\n",
    "    parts = np.random.randint(2,4)\n",
    "    studentName = ''\n",
    "    if parts == 2:\n",
    "        length_1 = random.randint(2,10)\n",
    "        length_2 = random.randint(5,20)\n",
    "        for i in range(length_1):\n",
    "            if i == 0:\n",
    "                studentName = studentName + random.choice(letterUpper)\n",
    "            else:\n",
    "                studentName = studentName + random.choice(letterLower)\n",
    "        studentName = studentName + ' '\n",
    "        for i in range(length_2):\n",
    "            if i == 0:\n",
    "                studentName = studentName + random.choice(letterUpper)\n",
    "            else:\n",
    "                studentName = studentName + random.choice(letterLower)\n",
    "    \n",
    "    elif parts == 3:\n",
    "        length_1 = random.randint(2,10)\n",
    "        length_2 = random.randint(2,6)\n",
    "        length_3 = random.randint(5,20)\n",
    "        for i in range(length_1):\n",
    "            if i == 0:\n",
    "                studentName = studentName + random.choice(letterUpper)\n",
    "            else:\n",
    "                studentName = studentName + random.choice(letterLower)\n",
    "        studentName = studentName + ' '\n",
    "        for i in range(length_2):\n",
    "            if i == 0:\n",
    "                studentName = studentName + random.choice(letterUpper)\n",
    "            else:\n",
    "                studentName = studentName + random.choice(letterLower)\n",
    "        studentName = studentName + ' '\n",
    "        for i in range(length_3):\n",
    "            if i == 0:\n",
    "                studentName = studentName + random.choice(letterUpper)\n",
    "            else:\n",
    "                studentName = studentName + random.choice(letterLower)\n",
    "\n",
    "    return studentName"
   ]
  },
  {
   "cell_type": "code",
   "execution_count": 15,
   "metadata": {},
   "outputs": [
    {
     "data": {
      "text/plain": [
       "0"
      ]
     },
     "execution_count": 15,
     "metadata": {},
     "output_type": "execute_result"
    }
   ],
   "source": [
    "def gender():\n",
    "    gender = random.randint(0,1)\n",
    "    if gender == 0:\n",
    "        return 0\n",
    "    else:\n",
    "        return 1\n",
    "\n",
    "gender()"
   ]
  },
  {
   "cell_type": "code",
   "execution_count": 16,
   "metadata": {},
   "outputs": [],
   "source": [
    "fileName = 'students.txt'\n",
    "with open(fileName,'w',encoding='utf-8') as file:\n",
    "    for i in range(0, size):\n",
    "        _sid = sid(i)\n",
    "        _studentID = studentID(_sid)\n",
    "        _studentName = studentName()\n",
    "        _gender = gender()\n",
    "\n",
    "        file.write(f'{_sid},{_studentID},{_studentName},{_gender}\\n')"
   ]
  }
 ],
 "metadata": {
  "kernelspec": {
   "display_name": "Python 3",
   "language": "python",
   "name": "python3"
  },
  "language_info": {
   "codemirror_mode": {
    "name": "ipython",
    "version": 3
   },
   "file_extension": ".py",
   "mimetype": "text/x-python",
   "name": "python",
   "nbconvert_exporter": "python",
   "pygments_lexer": "ipython3",
   "version": "3.11.5"
  },
  "orig_nbformat": 4
 },
 "nbformat": 4,
 "nbformat_minor": 2
}
